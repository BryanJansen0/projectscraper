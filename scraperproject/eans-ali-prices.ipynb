{
 "cells": [
  {
   "cell_type": "code",
   "execution_count": 18,
   "metadata": {},
   "outputs": [],
   "source": [
    "from db import dbinit\n",
    "from models import OurProduct\n",
    "import pandas as pd\n",
    "await dbinit()"
   ]
  },
  {
   "cell_type": "code",
   "execution_count": 19,
   "metadata": {},
   "outputs": [],
   "source": [
    "\n",
    "\n",
    "products = await OurProduct.find({}).to_list()\n",
    "lines = []\n",
    "\n",
    "for prod in products:\n",
    "    for sku in prod.ali.skus:\n",
    "        lines.append({\n",
    "            \"sku_variant_id\" : sku.id,\n",
    "            \"shopify_variant_link\" : f\"https://bryancommerce.myshopify.com/admin/products/{prod.shopify_id}/variants/{sku.shopify_id}\",\n",
    "            \"ean\" : sku.ean,\n",
    "            \"ali_price\" : sku.price,\n",
    "            \"ali_shipping\": sku.shipping,\n",
    "            \"shopify_price\": round(2 * (sku.price/123*100 + sku.shipping), 2),\n",
    "            \"ali_id\" : prod.id,\n",
    "            \"ali_link\": f\"https://www.aliexpress.com/item/{prod.id}.html\",\n",
    "            \"shopify_id\": prod.shopify_id,\n",
    "            \"shopify_product_link\" : f\"https://bryancommerce.myshopify.com/admin/products/{prod.shopify_id}\"}\n",
    ")"
   ]
  },
  {
   "cell_type": "code",
   "execution_count": 26,
   "metadata": {},
   "outputs": [],
   "source": [
    "df = pd.DataFrame(lines)\n",
    "for col in df.columns:\n",
    "    if col in ['sku_variant_id', 'ean', 'ali_id', 'shopify_id']:\n",
    "        df[col] = df[col].astype(str)\n",
    "df.to_excel('eans-prices-links.xlsx')"
   ]
  },
  {
   "cell_type": "code",
   "execution_count": null,
   "metadata": {},
   "outputs": [],
   "source": []
  }
 ],
 "metadata": {
  "kernelspec": {
   "display_name": "aliscra-P511VK5A-py3.10",
   "language": "python",
   "name": "python3"
  },
  "language_info": {
   "codemirror_mode": {
    "name": "ipython",
    "version": 3
   },
   "file_extension": ".py",
   "mimetype": "text/x-python",
   "name": "python",
   "nbconvert_exporter": "python",
   "pygments_lexer": "ipython3",
   "version": "3.10.6"
  },
  "orig_nbformat": 4
 },
 "nbformat": 4,
 "nbformat_minor": 2
}
